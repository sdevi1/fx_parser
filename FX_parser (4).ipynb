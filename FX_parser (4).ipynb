{
 "cells": [
  {
   "cell_type": "code",
   "execution_count": 1,
   "metadata": {},
   "outputs": [],
   "source": [
    "import bs4 as bs\n",
    "import re\n",
    "\n",
    "import datetime\n",
    "import pprint\n",
    "import pandas as pd\n",
    "import requests\n",
    "import time\n",
    "from selenium import webdriver\n",
    "import urllib.request\n",
    "from selenium.webdriver.chrome.options import Options\n",
    "from selenium.webdriver.support.ui import WebDriverWait\n",
    "from selenium.webdriver import ActionChains\n",
    "from selenium.webdriver.support import expected_conditions as EC\n",
    "from datetime import datetime"
   ]
  },
  {
   "cell_type": "code",
   "execution_count": 2,
   "metadata": {},
   "outputs": [],
   "source": [
    "driver = webdriver.Chrome('C:\\cd\\\\chromedriver.exe')\n",
    "\n",
    "\n",
    "options = webdriver.ChromeOptions()\n",
    "\n",
    "options.add_argument('--window-size=1920x1080')\n",
    "options.add_argument('--ignore-certificate-errors')\n",
    "options.add_argument('--incognito')\n",
    "options.add_argument('--headless')"
   ]
  },
  {
   "cell_type": "code",
   "execution_count": 3,
   "metadata": {},
   "outputs": [],
   "source": [
    "final_df = pd.DataFrame(columns = ['USD/RUB_buy', 'USD/RUB_sell', 'EUR/RUB_buy', 'EUR/RUB_sell', 'channel', 'bank_name'])\n",
    "error_log = pd.DataFrame(columns = ['bank_name', 'time', 'date'])"
   ]
  },
  {
   "cell_type": "code",
   "execution_count": 4,
   "metadata": {},
   "outputs": [],
   "source": [
    "#тут будем загружать имеющийся файлик"
   ]
  },
  {
   "cell_type": "code",
   "execution_count": 5,
   "metadata": {},
   "outputs": [],
   "source": [
    "#тут будем к нему присоединять данные и сохранять"
   ]
  },
  {
   "cell_type": "markdown",
   "metadata": {},
   "source": [
    "### Investing"
   ]
  },
  {
   "cell_type": "code",
   "execution_count": 6,
   "metadata": {},
   "outputs": [],
   "source": [
    "def investing(link, clasS):\n",
    "    driver.get('https://ru.investing.com/currencies/{}'.format(link))\n",
    "    page_source = driver.page_source\n",
    "    soup = bs.BeautifulSoup(page_source, 'html.parser')\n",
    "    value = soup.find('span', {'class' : clasS}).text\n",
    "    value = [s.replace(',', '.') for s in value]\n",
    "    string = ''.join(value)\n",
    "    number = float(string)\n",
    "    return number"
   ]
  },
  {
   "cell_type": "code",
   "execution_count": null,
   "metadata": {},
   "outputs": [],
   "source": [
    "usd = investing('usd-rub', 'arial_26 inlineblock pid-2186-last')\n",
    "eur = investing('eur-rub', 'arial_26 inlineblock pid-1691-last')"
   ]
  },
  {
   "cell_type": "markdown",
   "metadata": {},
   "source": [
    "### Raiffeisenbank"
   ]
  },
  {
   "cell_type": "code",
   "execution_count": null,
   "metadata": {},
   "outputs": [],
   "source": [
    "driver.get('https://www.raiffeisen.ru/currency_rates/?active_tab=')\n",
    "page_source = driver.page_source\n",
    "soup = bs.BeautifulSoup(page_source, 'html.parser')\n",
    "\n",
    "channels = ['online', 'offices', 'card']\n",
    "\n",
    "offices_idx = [10,12,17,19]\n",
    "online_idx = [8,9,13,14]\n",
    "card_idx = [4,5,7,8]"
   ]
  },
  {
   "cell_type": "code",
   "execution_count": null,
   "metadata": {},
   "outputs": [],
   "source": [
    "def raiff_parser(channel, channel_idx):\n",
    "    final_text = []\n",
    "\n",
    "    results = soup.find(\"div\", {'id': channel})\n",
    "    text = results.findAll('div', {'class':'b-table__td'})\n",
    "\n",
    "    all_text = []\n",
    "    for i in text:\n",
    "        all_text.append(i.text)\n",
    "    all_text = [s.replace('\\n', '') for s in all_text]\n",
    "    all_text = [s.replace(' ', '') for s in all_text]\n",
    "    \n",
    "        \n",
    "    for i in channel_idx:\n",
    "        final_text.append(all_text[i])\n",
    "\n",
    "\n",
    "    final_text.append(channel)\n",
    "    temp_df = pd.DataFrame(final_text).T\n",
    "    return temp_df"
   ]
  },
  {
   "cell_type": "code",
   "execution_count": null,
   "metadata": {
    "scrolled": true
   },
   "outputs": [],
   "source": [
    "try:\n",
    "    online = raiff_parser('online', online_idx)\n",
    "    offices = raiff_parser('offices', offices_idx)\n",
    "    card = raiff_parser('card', card_idx)\n",
    "\n",
    "    fx_raiff_df = pd.concat([online, offices], axis = 0)\n",
    "    fx_raiff_df = pd.concat([fx_raiff_df, card], axis = 0)\n",
    "\n",
    "    fx_raiff_df['bank_name'] = 'Raiffeisen'\n",
    "\n",
    "    fx_raiff_df = fx_raiff_df.rename(columns={0: \"USD/RUB_buy\",\n",
    "                                          1:'USD/RUB_sell', 2:'EUR/RUB_buy', 3:'EUR/RUB_sell',4:'channel'})\n",
    "\n",
    "    final_df = pd.concat([final_df, fx_raiff_df], axis = 0)\n",
    "except:\n",
    "    error_log['bank_name']"
   ]
  },
  {
   "cell_type": "markdown",
   "metadata": {},
   "source": [
    "### SBER"
   ]
  },
  {
   "cell_type": "code",
   "execution_count": null,
   "metadata": {},
   "outputs": [],
   "source": [
    "def sber_parser(link, channel):\n",
    "    driver.get(\"https://www.sberbank.ru/ru/quotes/currencies{}\".format(link))\n",
    "    time.sleep(5)\n",
    "    page_source = driver.page_source\n",
    "    soup = bs.BeautifulSoup(page_source, 'lxml')\n",
    "\n",
    "    table = soup.find('table', {'class':'rates-current__table'})\n",
    "    table_body = table.find('tbody')\n",
    "    data = []\n",
    "\n",
    "    rows = table_body.find_all('tr')\n",
    "    for row in rows:\n",
    "        cols = row.find_all('td')\n",
    "        cols = [ele.text.strip() for ele in cols]\n",
    "        data.append([ele for ele in cols if ele]) \n",
    "        \n",
    "    sber_tmp = []\n",
    "    sber_tmp.append(data[2][1])\n",
    "    sber_tmp.append(data[2][2])\n",
    "    sber_tmp.append(data[1][1])\n",
    "    sber_tmp.append(data[1][2])\n",
    "    sber_tmp = [s.replace(',', '.') for s in sber_tmp]\n",
    "    sber_tmp = [s[0 : 5] for s in sber_tmp]\n",
    "    temp_df_sber = pd.DataFrame(sber_tmp).T\n",
    "    temp_df_sber['channel'] = channel\n",
    "    return temp_df_sber"
   ]
  },
  {
   "cell_type": "code",
   "execution_count": null,
   "metadata": {},
   "outputs": [],
   "source": [
    "try:\n",
    "    first = sber_parser('first', 'first')\n",
    "    premier = sber_parser('premier', 'premier')\n",
    "\n",
    "    fx_sber_df = pd.concat([first, premier], axis = 0)\n",
    "    fx_sber_df['bank_name'] = 'Sber'\n",
    "\n",
    "\n",
    "    fx_sber_df = fx_sber_df.rename(columns={0: \"USD/RUB_buy\", 1:'USD/RUB_sell', 2:'EUR/RUB_buy', 3:'EUR/RUB_sell'}) \n",
    "\n",
    "    final_df = pd.concat([final_df, fx_sber_df], axis = 0)\n",
    "except:\n",
    "    print('error')"
   ]
  },
  {
   "cell_type": "markdown",
   "metadata": {},
   "source": [
    "### Alfa"
   ]
  },
  {
   "cell_type": "code",
   "execution_count": null,
   "metadata": {},
   "outputs": [],
   "source": [
    "def alfa_parser(channel):\n",
    "    driver.get('https://alfabank.ru/currency/')\n",
    "    page_source = driver.page_source\n",
    "    soup = bs.BeautifulSoup(page_source, 'lxml')\n",
    "\n",
    "    table = soup.find('table', {'class':'table'})\n",
    "    table_body = table.find('tbody')\n",
    "    data = []\n",
    "\n",
    "    rows = table_body.find_all('tr')\n",
    "    for row in rows:\n",
    "        cols = row.find_all('td')\n",
    "        cols = [ele.text.strip() for ele in cols]\n",
    "        data.append([ele for ele in cols if ele])\n",
    "    \n",
    "    alfa_tmp = []\n",
    "    alfa_tmp.append(data[2][1])\n",
    "    alfa_tmp.append(data[2][2])\n",
    "    alfa_tmp.append(data[3][1])\n",
    "    alfa_tmp.append(data[3][2])\n",
    "    temp_df_alfa = pd.DataFrame(alfa_tmp).T\n",
    "    temp_df_alfa['channel'] = channel\n",
    "    \n",
    "    return temp_df_alfa"
   ]
  },
  {
   "cell_type": "code",
   "execution_count": null,
   "metadata": {},
   "outputs": [],
   "source": [
    "try:\n",
    "    fx_alfa_df = alfa_parser('online')\n",
    "    fx_alfa_df['bank_name'] = 'Alfa'\n",
    "\n",
    "    fx_alfa_df = fx_alfa_df.rename(columns={0: \"USD/RUB_buy\", 1:'USD/RUB_sell', 2:'EUR/RUB_buy', 3:'EUR/RUB_sell'}) \n",
    "    final_df = pd.concat([final_df, fx_alfa_df], axis = 0)\n",
    "except:\n",
    "    print('error')"
   ]
  },
  {
   "cell_type": "markdown",
   "metadata": {},
   "source": [
    "### VTB"
   ]
  },
  {
   "cell_type": "code",
   "execution_count": null,
   "metadata": {},
   "outputs": [],
   "source": [
    "try:\n",
    "    driver.get('https://www.vtb.ru/personal/platezhi-i-perevody/obmen-valjuty/')\n",
    "\n",
    "    #Скролим немного вниз что бы кнопку можно было нажать,иначе перекрывает уведомление о куки\n",
    "    driver.execute_script(\"window.scrollTo(0, 500);\") \n",
    "    driver.implicitly_wait(10)\n",
    "\n",
    "    #нажимаем кнопку\n",
    "    driver.find_element_by_xpath(\"//body/main/div/section/div/div/div/div/div/div/div/section/div/div/ul/li[3]/a\").click()\n",
    "    time.sleep(4)\n",
    "\n",
    "    page_source = driver.page_source\n",
    "    soup = bs.BeautifulSoup(page_source, 'lxml')\n",
    "\n",
    "    #ищем нужные данные\n",
    "    table = soup.findAll('table', {'class' : 'exchange-rate-table_no-width'})[2]\n",
    "    table_body = table.find('tbody')\n",
    "    data = []\n",
    "\n",
    "    rows = table_body.find_all('tr')\n",
    "    for row in rows:\n",
    "        cols = row.find_all('td')\n",
    "        cols = [ele.text.strip() for ele in cols]\n",
    "        data.append([ele for ele in cols if ele])\n",
    "\n",
    "    vtb_tmp = []\n",
    "    vtb_tmp.append(data[1][1])\n",
    "    vtb_tmp.append(data[1][2])\n",
    "    vtb_tmp.append(data[2][1])\n",
    "    vtb_tmp.append(data[2][2])\n",
    "    vtb_tmp = [s.replace(',', '.') for s in vtb_tmp]\n",
    "\n",
    "    fx_vtb_df = pd.DataFrame(vtb_tmp).T\n",
    "    fx_vtb_df['channel'] = 'online'\n",
    "\n",
    "    fx_vtb_df['bank_name'] = 'VTB'\n",
    "\n",
    "\n",
    "    fx_vtb_df = fx_vtb_df.rename(columns={0: \"USD/RUB_buy\", 1:'USD/RUB_sell', 2:'EUR/RUB_buy', 3:'EUR/RUB_sell'}) \n",
    "\n",
    "    final_df = pd.concat([final_df, fx_vtb_df], axis = 0)\n",
    "except:\n",
    "    print('error')"
   ]
  },
  {
   "cell_type": "markdown",
   "metadata": {},
   "source": [
    "### Unicredit"
   ]
  },
  {
   "cell_type": "code",
   "execution_count": null,
   "metadata": {},
   "outputs": [],
   "source": [
    "driver.get('https://www.unicreditbank.ru/ru/personal/all-currencies.html')\n",
    "page_source = driver.page_source\n",
    "soup = bs.BeautifulSoup(page_source, 'lxml')\n",
    "\n",
    "try:\n",
    "    table = soup.find('div', {'class' : 'table_wrap'})\n",
    "    table_body = table.find('tbody')\n",
    "    data = []\n",
    "\n",
    "    rows = table_body.find_all('tr')\n",
    "    for row in rows:\n",
    "        cols = row.find_all('td')\n",
    "        cols = [ele.text.strip() for ele in cols]\n",
    "        data.append([ele for ele in cols if ele])\n",
    "    \n",
    "    uni_tmp = []\n",
    "    uni_tmp.append(data[0][3])\n",
    "    uni_tmp.append(data[0][4])\n",
    "    uni_tmp.append(data[1][3])\n",
    "    uni_tmp.append(data[1][4])\n",
    "\n",
    "\n",
    "    fx_uni_df = pd.DataFrame(uni_tmp).T\n",
    "    fx_uni_df['channel'] = 'online'\n",
    "\n",
    "    fx_uni_df['bank_name'] = 'Unicredit'\n",
    "\n",
    "\n",
    "    fx_uni_df = fx_uni_df.rename(columns={0: \"USD/RUB_buy\", 1:'USD/RUB_sell', 2:'EUR/RUB_buy', 3:'EUR/RUB_sell'}) \n",
    "\n",
    "    final_df = pd.concat([final_df, fx_uni_df], axis = 0)\n",
    "except:\n",
    "    print('error')"
   ]
  },
  {
   "cell_type": "markdown",
   "metadata": {},
   "source": [
    "### Gazprombank"
   ]
  },
  {
   "cell_type": "code",
   "execution_count": null,
   "metadata": {},
   "outputs": [],
   "source": [
    "try:\n",
    "    driver.get('https://www.gazprombank.ru/personal/courses/')\n",
    "\n",
    "    #Скролим немного вниз что бы кнопку можно было нажать,иначе перекрывает уведомление о куки\n",
    "    driver.execute_script(\"window.scrollTo(0, 500);\") \n",
    "    driver.implicitly_wait(10)\n",
    "\n",
    "    #нажимаем кнопку\n",
    "    driver.find_element_by_xpath('//body/div/div/div/div/div/div/div/div/div/div/div/button[4]').click()\n",
    "\n",
    "\n",
    "    page_source = driver.page_source\n",
    "    soup = bs.BeautifulSoup(page_source, 'lxml')\n",
    "\n",
    "    table = soup.find('div', {'class' : 'nr-courses-table'})\n",
    "    rows = table.findAll('div', {'class' : 'nr-courses-table__line'})\n",
    "\n",
    "    data = []\n",
    "    data.append(rows[1].findAll('span')[2].text)\n",
    "    data.append(rows[1].findAll('span')[0].text)\n",
    "    data.append(rows[2].findAll('span')[2].text)\n",
    "    data.append(rows[2].findAll('span')[0].text)\n",
    "    \n",
    "    fx_gzb_df = pd.DataFrame(data).T\n",
    "    fx_gzb_df['channel'] = 'online'\n",
    "\n",
    "    fx_gzb_df['bank_name'] = 'Gazprom'\n",
    "\n",
    "    fx_gzb_df = fx_gzb_df.rename(columns={0: \"USD/RUB_buy\", 1:'USD/RUB_sell', 2:'EUR/RUB_buy', 3:'EUR/RUB_sell'}) \n",
    "\n",
    "\n",
    "    final_df = pd.concat([final_df, fx_gzb_df], axis = 0)\n",
    "except:\n",
    "    print('error')"
   ]
  },
  {
   "cell_type": "markdown",
   "metadata": {},
   "source": [
    "### Otkrytie"
   ]
  },
  {
   "cell_type": "code",
   "execution_count": null,
   "metadata": {},
   "outputs": [],
   "source": [
    "try:\n",
    "    #парсим льготный и стандартный курс\n",
    "    driver.get('https://www.open.ru/')\n",
    "    time.sleep(8)\n",
    "    driver.implicitly_wait(10)\n",
    "    driver.find_element_by_xpath(\"//div[@id='rc-tabs-1-tab-defaultRate']\").click()\n",
    "    time.sleep(3)\n",
    "    page_source = driver.page_source\n",
    "    soup = bs.BeautifulSoup(page_source, 'lxml')\n",
    "\n",
    "    #льготный\n",
    "\n",
    "    table = soup.findAll('table', {'class':'main-page-exchange__table main-page-exchange__table--online'})[0]\n",
    "    table_body = table.find('tbody')\n",
    "    data = []\n",
    "    rows = table_body.find_all('tr')\n",
    "    for row in rows:\n",
    "        cols = row.find_all('td')\n",
    "        cols = [ele.text.strip() for ele in cols]\n",
    "        data.append([ele for ele in cols if ele])\n",
    "\n",
    "    open_tmp = []\n",
    "    open_tmp.append(data[2][1])\n",
    "    open_tmp.append(data[2][3])\n",
    "    open_tmp.append(data[1][1])\n",
    "    open_tmp.append(data[1][3])\n",
    "    open_tmp = [s.replace(',', '.') for s in open_tmp]\n",
    "\n",
    "    fx_open_s = pd.DataFrame(open_tmp).T\n",
    "    fx_open_s['channel'] = 'online 1000+'\n",
    "    \n",
    "    #стандартный\n",
    "    table = soup.findAll('table', {'class':'main-page-exchange__table main-page-exchange__table--online'})[1]\n",
    "    table_body = table.find('tbody')\n",
    "    data = []\n",
    "    rows = table_body.find_all('tr')\n",
    "    for row in rows:\n",
    "        cols = row.find_all('td')\n",
    "        cols = [ele.text.strip() for ele in cols]\n",
    "        data.append([ele for ele in cols if ele])\n",
    "\n",
    "    open_tmp = []\n",
    "    open_tmp.append(data[1][1])\n",
    "    open_tmp.append(data[1][3])\n",
    "    open_tmp.append(data[2][1])\n",
    "    open_tmp.append(data[2][3])\n",
    "    \n",
    "    open_tmp = [s.replace(',', '.') for s in open_tmp]\n",
    "\n",
    "    fx_open_st = pd.DataFrame(open_tmp).T\n",
    "    fx_open_st['channel'] = 'online 0-1000'\n",
    "    \n",
    "    #объединяем\n",
    "    fx_open_s = pd.concat([fx_open_s, fx_open_st], axis = 0)\n",
    "\n",
    "    fx_open_s['bank_name'] = 'Otkrytie'\n",
    "\n",
    "\n",
    "    fx_open_s = fx_open_s.rename(columns={0: \"USD/RUB_buy\", 1:'USD/RUB_sell', 2:'EUR/RUB_buy', 3:'EUR/RUB_sell'}) \n",
    "\n",
    "    final_df = pd.concat([final_df, fx_open_s], axis = 0)\n",
    "except:\n",
    "    print('error')"
   ]
  },
  {
   "cell_type": "markdown",
   "metadata": {},
   "source": [
    "### Tinkoff"
   ]
  },
  {
   "cell_type": "code",
   "execution_count": null,
   "metadata": {},
   "outputs": [],
   "source": [
    "def tinkoff_parser(link):\n",
    "    driver.get('https://api.tinkoff.ru/v1/currency_rates?from={}'.format(link))\n",
    "\n",
    "\n",
    "    page_source = driver.page_source\n",
    "    soup = bs.BeautifulSoup(page_source, 'lxml')\n",
    "    soup = soup.text\n",
    "\n",
    "    result = re.findall(\"\\d+\\.\\d+\", soup)\n",
    "    return result"
   ]
  },
  {
   "cell_type": "code",
   "execution_count": null,
   "metadata": {},
   "outputs": [],
   "source": [
    "try:\n",
    "    usd_tink = tinkoff_parser('USD&to=RUB')\n",
    "    eur_tink = tinkoff_parser('EUR&to=RUB')\n",
    "    buy_idx = [0, 4, 14]\n",
    "    sell_idx = [1, 5, 15]\n",
    "\n",
    "    def data_tinkoff(idx, currency):\n",
    "        data = []\n",
    "        for i in idx:\n",
    "            data.append(currency[i])\n",
    "        return data\n",
    "\n",
    "    usd_buy = data_tinkoff(buy_idx, usd_tink)\n",
    "    usd_sell = data_tinkoff(sell_idx, usd_tink)\n",
    "\n",
    "    eur_buy = data_tinkoff(buy_idx, eur_tink)\n",
    "    eur_sell = data_tinkoff(sell_idx, eur_tink)\n",
    "\n",
    "    channel_lst = ['standart', 'pro', 'premium']\n",
    "\n",
    "    tinkoff_dict = {'USD/RUB_buy' : usd_buy,\n",
    "               'USD/RUB_sell' : usd_sell,\n",
    "               'EUR/RUB_buy' : eur_buy,\n",
    "               'EUR/RUB_sell' : eur_sell,\n",
    "               'channel' : channel_lst,\n",
    "               'bank_name' : 'Tinkoff'}\n",
    "\n",
    "    tinkoff_df = pd.DataFrame(tinkoff_dict)\n",
    "\n",
    "    final_df = pd.concat([final_df, tinkoff_df], axis = 0)\n",
    "except:\n",
    "    print('error')"
   ]
  },
  {
   "cell_type": "markdown",
   "metadata": {},
   "source": [
    "### Соединяем вместе"
   ]
  },
  {
   "cell_type": "code",
   "execution_count": null,
   "metadata": {},
   "outputs": [],
   "source": [
    "final_df[['USD/RUB_buy', 'USD/RUB_sell', 'EUR/RUB_buy', 'EUR/RUB_sell']] = final_df[['USD/RUB_buy',\n",
    "                                                                     'USD/RUB_sell',\n",
    "                                                                     'EUR/RUB_buy',\n",
    "                                                                     'EUR/RUB_sell']].astype(float)"
   ]
  },
  {
   "cell_type": "code",
   "execution_count": null,
   "metadata": {},
   "outputs": [],
   "source": [
    "final_df['USD_market'] = usd\n",
    "final_df['EUR_market'] = eur\n",
    "\n",
    "final_df['USD_mid'] = (final_df['USD/RUB_buy']+final_df['USD/RUB_sell'])/2\n",
    "final_df['EUR_mid'] = (final_df['EUR/RUB_buy']+final_df['EUR/RUB_sell'])/2\n",
    "\n",
    "final_df['USD_spread_%'] = (1 - final_df['USD/RUB_buy']/final_df['USD_mid']) - (\n",
    "    1 - final_df['USD/RUB_sell']/final_df['USD_mid'])*100\n",
    "\n",
    "final_df['EUR_spread_%'] = (1 - final_df['EUR/RUB_buy']/final_df['EUR_mid']) - (\n",
    "    1 - final_df['EUR/RUB_sell']/final_df['EUR_mid'])*100\n",
    "\n",
    "final_df['date'] = datetime.now().strftime('%Y-%m-%d') \n",
    "final_df['time'] = datetime.now().strftime('%H:%M:%S')"
   ]
  },
  {
   "cell_type": "code",
   "execution_count": null,
   "metadata": {},
   "outputs": [],
   "source": [
    "competitors =pd.read_excel(r'C:\\parser\\competitors.xlsx')\n",
    "competitors = pd.concat([competitors, final_df], axis = 0)\n",
    "competitors = competitors.reset_index(inplace = False, drop = True)\n",
    "competitors.to_excel(r'C:\\parser\\competitors.xlsx', index=False)"
   ]
  },
  {
   "cell_type": "code",
   "execution_count": null,
   "metadata": {
    "scrolled": true
   },
   "outputs": [],
   "source": [
    "competitors[competitors['bank_name'] == 'Sber']"
   ]
  },
  {
   "cell_type": "code",
   "execution_count": null,
   "metadata": {},
   "outputs": [],
   "source": []
  }
 ],
 "metadata": {
  "kernelspec": {
   "display_name": "Python 3",
   "language": "python",
   "name": "python3"
  },
  "language_info": {
   "codemirror_mode": {
    "name": "ipython",
    "version": 3
   },
   "file_extension": ".py",
   "mimetype": "text/x-python",
   "name": "python",
   "nbconvert_exporter": "python",
   "pygments_lexer": "ipython3",
   "version": "3.8.3"
  }
 },
 "nbformat": 4,
 "nbformat_minor": 4
}
